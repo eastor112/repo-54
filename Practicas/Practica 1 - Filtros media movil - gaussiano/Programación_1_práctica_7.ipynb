{
  "nbformat": 4,
  "nbformat_minor": 0,
  "metadata": {
    "colab": {
      "provenance": []
    },
    "kernelspec": {
      "name": "python3",
      "display_name": "Python 3"
    },
    "language_info": {
      "name": "python"
    }
  },
  "cells": [
    {
      "cell_type": "code",
      "source": [
        "import cv2\n",
        "cv2.__version__"
      ],
      "metadata": {
        "colab": {
          "base_uri": "https://localhost:8080/",
          "height": 36
        },
        "id": "TbQQFi0s5BZ1",
        "outputId": "a0331323-179c-4635-be1e-b805d39ef557"
      },
      "execution_count": null,
      "outputs": [
        {
          "output_type": "execute_result",
          "data": {
            "text/plain": [
              "'4.8.0'"
            ],
            "application/vnd.google.colaboratory.intrinsic+json": {
              "type": "string"
            }
          },
          "metadata": {},
          "execution_count": 2
        }
      ]
    },
    {
      "cell_type": "code",
      "source": [
        "!pip install"
      ],
      "metadata": {
        "id": "jqTRuLOj5awM"
      },
      "execution_count": null,
      "outputs": []
    },
    {
      "cell_type": "code",
      "execution_count": null,
      "metadata": {
        "colab": {
          "base_uri": "https://localhost:8080/"
        },
        "id": "enxm08IIWyme",
        "outputId": "e70d912c-3caf-49e4-dc2f-db74ff577521"
      },
      "outputs": [
        {
          "output_type": "stream",
          "name": "stdout",
          "text": [
            "Hola\n"
          ]
        }
      ],
      "source": [
        "print(\"Hola\")"
      ]
    },
    {
      "cell_type": "markdown",
      "source": [
        "### Ejercicio 1"
      ],
      "metadata": {
        "id": "SGzWshJQaVPA"
      }
    },
    {
      "cell_type": "code",
      "source": [
        "n=9\n",
        "for row in range(1,n+1):\n",
        "  for col in range(1, n+1):\n",
        "    printed_col = col\n",
        "    if (col > row):\n",
        "      printed_col = row\n",
        "    print(printed_col, end=\"  \")\n",
        "  for col in range(n-1, 0, -1):\n",
        "    printed_col = col\n",
        "    if (col > row):\n",
        "      printed_col = row\n",
        "    print(printed_col, end=\"  \")\n",
        "  print(\"\")\n",
        "\n",
        "for row in range(n-1,0, -1):\n",
        "  for col in range(1, n+1):\n",
        "    printed_col = col\n",
        "    if (col > row):\n",
        "      printed_col = row\n",
        "    print(printed_col, end=\"  \")\n",
        "  for col in range(n-1, 0, -1):\n",
        "    printed_col = col\n",
        "    if (col > row):\n",
        "      printed_col = row\n",
        "    print(printed_col, end=\"  \")\n",
        "  print(\"\")"
      ],
      "metadata": {
        "colab": {
          "base_uri": "https://localhost:8080/"
        },
        "id": "hAyys4eaXvX7",
        "outputId": "a7372bf4-19c8-40c6-c7f6-9884b1df6e57"
      },
      "execution_count": null,
      "outputs": [
        {
          "output_type": "stream",
          "name": "stdout",
          "text": [
            "1  1  1  1  1  1  1  1  1  1  1  1  1  1  1  1  1  \n",
            "1  2  2  2  2  2  2  2  2  2  2  2  2  2  2  2  1  \n",
            "1  2  3  3  3  3  3  3  3  3  3  3  3  3  3  2  1  \n",
            "1  2  3  4  4  4  4  4  4  4  4  4  4  4  3  2  1  \n",
            "1  2  3  4  5  5  5  5  5  5  5  5  5  4  3  2  1  \n",
            "1  2  3  4  5  6  6  6  6  6  6  6  5  4  3  2  1  \n",
            "1  2  3  4  5  6  7  7  7  7  7  6  5  4  3  2  1  \n",
            "1  2  3  4  5  6  7  8  8  8  7  6  5  4  3  2  1  \n",
            "1  2  3  4  5  6  7  8  9  8  7  6  5  4  3  2  1  \n",
            "1  2  3  4  5  6  7  8  8  8  7  6  5  4  3  2  1  \n",
            "1  2  3  4  5  6  7  7  7  7  7  6  5  4  3  2  1  \n",
            "1  2  3  4  5  6  6  6  6  6  6  6  5  4  3  2  1  \n",
            "1  2  3  4  5  5  5  5  5  5  5  5  5  4  3  2  1  \n",
            "1  2  3  4  4  4  4  4  4  4  4  4  4  4  3  2  1  \n",
            "1  2  3  3  3  3  3  3  3  3  3  3  3  3  3  2  1  \n",
            "1  2  2  2  2  2  2  2  2  2  2  2  2  2  2  2  1  \n",
            "1  1  1  1  1  1  1  1  1  1  1  1  1  1  1  1  1  \n"
          ]
        }
      ]
    },
    {
      "cell_type": "markdown",
      "source": [
        "### Ejercicio 2"
      ],
      "metadata": {
        "id": "Z_ggeBE9fxSj"
      }
    },
    {
      "cell_type": "code",
      "source": [
        "from traitlets.traitlets import Int\n",
        "m = 3\n",
        "k = 3\n",
        "k = 3\n",
        "s = 2\n",
        "\n",
        "matA = []\n",
        "matB = []\n",
        "\n",
        "for i in range(m):\n",
        "  fila = []\n",
        "  for j in range(k):\n",
        "    num = int(input(f\"Ingrese el valor {i}, {j}: \"))\n",
        "    fila.append(num)\n",
        "  matA.append(fila)\n",
        "\n",
        "print(matA)\n",
        "\n",
        "for i in range(k):\n",
        "  fila = []\n",
        "  for j in range(2):\n",
        "    num = int(input(f\"Ingrese el valor {i}, {j}: \"))\n",
        "    fila.append(num)\n",
        "  matB.append(fila)\n",
        "\n",
        "print(matB)"
      ],
      "metadata": {
        "colab": {
          "base_uri": "https://localhost:8080/"
        },
        "id": "V2CMRY5yX0lB",
        "outputId": "2c3aa6b0-00d8-44c9-a09a-60c81f344f2e"
      },
      "execution_count": null,
      "outputs": [
        {
          "output_type": "stream",
          "name": "stdout",
          "text": [
            "Ingrese el valor 0, 0: 1\n",
            "Ingrese el valor 0, 1: 2\n",
            "Ingrese el valor 0, 2: 3\n",
            "Ingrese el valor 1, 0: 4\n",
            "Ingrese el valor 1, 1: 5\n",
            "Ingrese el valor 1, 2: 6\n",
            "Ingrese el valor 2, 0: 7\n",
            "Ingrese el valor 2, 1: 8\n",
            "Ingrese el valor 2, 2: 9\n",
            "[[1, 2, 3], [4, 5, 6], [7, 8, 9]]\n",
            "Ingrese el valor 0, 0: 1\n",
            "Ingrese el valor 0, 1: 2\n",
            "Ingrese el valor 1, 0: 3\n",
            "Ingrese el valor 1, 1: 4\n",
            "Ingrese el valor 2, 0: 5\n",
            "Ingrese el valor 2, 1: 6\n",
            "[[1, 2], [3, 4], [5, 6]]\n"
          ]
        }
      ]
    },
    {
      "cell_type": "code",
      "source": [
        "mult = []\n",
        "\n",
        "for row in range(m):\n",
        "  fila = []\n",
        "  for col in range(s):\n",
        "    acum = 0\n",
        "    for interm in range(k):\n",
        "      acum = acum + matA[row][interm]*matB[interm][col]\n",
        "    fila.append(acum)\n",
        "  mult.append(fila)\n",
        "\n",
        "for row in mult:\n",
        "  print(row)"
      ],
      "metadata": {
        "colab": {
          "base_uri": "https://localhost:8080/"
        },
        "id": "jFUTDcyta6fE",
        "outputId": "9591dca5-23e6-444d-825c-443018ff4e57"
      },
      "execution_count": null,
      "outputs": [
        {
          "output_type": "stream",
          "name": "stdout",
          "text": [
            "[22, 28]\n",
            "[49, 64]\n",
            "[76, 100]\n"
          ]
        }
      ]
    },
    {
      "cell_type": "markdown",
      "source": [
        "### Ejercicio 3"
      ],
      "metadata": {
        "id": "lJ4OnaUef9ao"
      }
    },
    {
      "cell_type": "code",
      "source": [
        "nums = [2, 7, 11, 15, 2]\n",
        "objetivo = 18\n",
        "\n",
        "for i in range(len(nums)):\n",
        "  for j in range(i+1, len(nums)):\n",
        "    if nums[i]+nums[j] == objetivo:\n",
        "      print(i, j)"
      ],
      "metadata": {
        "colab": {
          "base_uri": "https://localhost:8080/"
        },
        "id": "ozjbDh1vfoXF",
        "outputId": "92093e71-5082-42dc-df6f-518f5af6b170"
      },
      "execution_count": null,
      "outputs": [
        {
          "output_type": "stream",
          "name": "stdout",
          "text": [
            "1 2\n"
          ]
        }
      ]
    },
    {
      "cell_type": "markdown",
      "source": [
        "### Ejercicio 4"
      ],
      "metadata": {
        "id": "2KxE0FiJh1kY"
      }
    },
    {
      "cell_type": "code",
      "source": [
        "import math\n",
        "\n",
        "def modulo(vect):\n",
        "  mod = 0\n",
        "  for i in range(len(vect)):\n",
        "    mod = mod + vect[i]*vect[i]\n",
        "\n",
        "  mod = math.sqrt(mod)\n",
        "  return mod\n",
        "\n",
        "def escalar(vect1, vect2):\n",
        "  acum = 0\n",
        "  for i in range(len(vect1)):\n",
        "    acum = acum + vect1[i]*vect2[i]\n",
        "\n",
        "  return acum\n"
      ],
      "metadata": {
        "id": "xqwzls33gVP8"
      },
      "execution_count": null,
      "outputs": []
    },
    {
      "cell_type": "code",
      "source": [
        "vectA = [1, 2, 3]\n",
        "vectB = [1, 2, 3]\n",
        "\n",
        "print(f\"Modulo vectA = {modulo(vectA)}\")\n",
        "print(f\"Modulo vectB = {modulo(vectB)}\")\n",
        "\n",
        "if len(vectA) == len(vectB):\n",
        "  print(f\"Producto esc = {escalar(vectA, vectB)}\")\n"
      ],
      "metadata": {
        "colab": {
          "base_uri": "https://localhost:8080/"
        },
        "id": "p2bit92OieIA",
        "outputId": "e57f7414-112f-4a83-8974-b66febd42659"
      },
      "execution_count": null,
      "outputs": [
        {
          "output_type": "stream",
          "name": "stdout",
          "text": [
            "Modulo vectA = 3.7416573867739413\n",
            "Modulo vectB = 3.7416573867739413\n",
            "Producto esc = 14\n"
          ]
        }
      ]
    },
    {
      "cell_type": "markdown",
      "source": [
        "### Ejercicio 5"
      ],
      "metadata": {
        "id": "P_TQCcMil5ob"
      }
    },
    {
      "cell_type": "code",
      "source": [
        "def es_palindrome(num):\n",
        "  val=0\n",
        "  while val < num:\n",
        "    resto = num % 10\n",
        "    num = num//10\n",
        "    val = val*10 + resto\n",
        "\n",
        "  if num == (val//10) or num == val:\n",
        "    print(\"Es un palindrome\")\n",
        "  else:\n",
        "    print(\"No es un palindrome\")\n"
      ],
      "metadata": {
        "id": "Zlkt79Eti2XI"
      },
      "execution_count": null,
      "outputs": []
    },
    {
      "cell_type": "code",
      "source": [
        "num = 4331334\n",
        "if num%10 ==0:\n",
        "  print(\"No es un palindrome\")\n",
        "else:\n",
        "  es_palindrome(num)"
      ],
      "metadata": {
        "colab": {
          "base_uri": "https://localhost:8080/"
        },
        "id": "-F2Ka8MimcPg",
        "outputId": "980e4647-e445-4681-b1e6-5ff481b8826a"
      },
      "execution_count": null,
      "outputs": [
        {
          "output_type": "stream",
          "name": "stdout",
          "text": [
            "433 4331\n",
            "Es un palindrome\n"
          ]
        }
      ]
    },
    {
      "cell_type": "markdown",
      "source": [
        "### Ejercicio 6"
      ],
      "metadata": {
        "id": "WQCMG-6lrZ0F"
      }
    },
    {
      "cell_type": "code",
      "source": [
        "vect = [4, 1, 1, 2, 2]\n",
        "\n",
        "for i in range(len(vect)-1):\n",
        "  count = 0\n",
        "  for j in range(len(vect)):\n",
        "    if vect[i] == vect[j]:\n",
        "      count+=1\n",
        "  if count==1:\n",
        "    print(vect[i])"
      ],
      "metadata": {
        "colab": {
          "base_uri": "https://localhost:8080/"
        },
        "id": "M-TtDamorcSB",
        "outputId": "28001076-ffaf-4c44-c5bf-1e53e7e4fa81"
      },
      "execution_count": null,
      "outputs": [
        {
          "output_type": "stream",
          "name": "stdout",
          "text": [
            "4\n"
          ]
        }
      ]
    },
    {
      "cell_type": "code",
      "source": [
        "\"{0:03}\".format(100)"
      ],
      "metadata": {
        "colab": {
          "base_uri": "https://localhost:8080/",
          "height": 36
        },
        "id": "h3eHLHUj72Nm",
        "outputId": "c96a35bd-2a58-4f40-d63c-782e4a04d0fd"
      },
      "execution_count": null,
      "outputs": [
        {
          "output_type": "execute_result",
          "data": {
            "text/plain": [
              "'100'"
            ],
            "application/vnd.google.colaboratory.intrinsic+json": {
              "type": "string"
            }
          },
          "metadata": {},
          "execution_count": 173
        }
      ]
    }
  ]
}